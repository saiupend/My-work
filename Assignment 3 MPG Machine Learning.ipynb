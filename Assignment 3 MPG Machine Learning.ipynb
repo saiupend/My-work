{
 "cells": [
  {
   "cell_type": "markdown",
   "metadata": {},
   "source": [
    "### Assignment 3\n",
    "\n",
    "Prog 8510 : Programming Statistics for Business\n",
    "\n",
    "* Student Name : Sai Upendra M\n",
    "* Student ID : 8797514"
   ]
  },
  {
   "cell_type": "markdown",
   "metadata": {},
   "source": [
    "**Instructions** : \n",
    "\n",
    "- import relevant python libraries to construct and evaluate ML models (sklearn and dmba etc.). \n",
    "- Load the new_cars_for_assignment.csv dataset from Econestoga given along with this question file and answer the questions below.\n",
    "    \n",
    "\n"
   ]
  },
  {
   "cell_type": "markdown",
   "metadata": {},
   "source": [
    "import the dataset and packages in the cell below"
   ]
  },
  {
   "cell_type": "code",
   "execution_count": 1,
   "metadata": {},
   "outputs": [
    {
     "name": "stdout",
     "output_type": "stream",
     "text": [
      "Requirement already satisfied: dmba in c:\\users\\saiup\\anaconda3\\lib\\site-packages (0.1.0)\n",
      "    mpg  cylinders  displacement  horsepower  weight  acceleration origin  \\\n",
      "0  18.0          8         307.0         130    3504          12.0    usa   \n",
      "1  15.0          8         350.0         165    3693          11.5    usa   \n",
      "2  18.0          8         318.0         150    3436          11.0    usa   \n",
      "3  16.0          8         304.0         150    3433          12.0    usa   \n",
      "4  17.0          8         302.0         140    3449          10.5    usa   \n",
      "\n",
      "                          me  \n",
      "0  chevrolet chevelle malibu  \n",
      "1          buick skylark 320  \n",
      "2         plymouth satellite  \n",
      "3              amc rebel sst  \n",
      "4                ford torino  \n"
     ]
    }
   ],
   "source": [
    "import sklearn\n",
    "! pip install dmba\n",
    "import dmba\n",
    "import pandas as pd\n",
    "df = pd.read_csv('C:/Users/saiup/Downloads/new_cars_for_assignment.csv')\n",
    "print(df.head())"
   ]
  },
  {
   "cell_type": "markdown",
   "metadata": {},
   "source": [
    "#### 1. Split the datasets into training and testing data with training data ratio set to 75%"
   ]
  },
  {
   "cell_type": "code",
   "execution_count": 2,
   "metadata": {},
   "outputs": [
    {
     "name": "stdout",
     "output_type": "stream",
     "text": [
      "Training data shape:  (298, 8)\n",
      "Testing data shape:  (100, 8)\n"
     ]
    }
   ],
   "source": [
    "from sklearn.model_selection import train_test_split\n",
    "train_data, test_data = train_test_split(df, test_size=0.25, random_state=42)\n",
    "print(\"Training data shape: \", train_data.shape)\n",
    "print(\"Testing data shape: \", test_data.shape)"
   ]
  },
  {
   "cell_type": "markdown",
   "metadata": {},
   "source": [
    "#### 2. Build a Machine Learning linear regression model using the training data in order to predict the mpg of a car given all the other numerical variables (cylinders\tdisplacement\thorsepower\tweight\tacceleration)\n"
   ]
  },
  {
   "cell_type": "code",
   "execution_count": 3,
   "metadata": {},
   "outputs": [
    {
     "name": "stdout",
     "output_type": "stream",
     "text": [
      "Coefficients: [-0.02722184 -0.0112054  -0.04718446 -0.00484868 -0.08172585]\n"
     ]
    }
   ],
   "source": [
    "from sklearn.linear_model import LinearRegression\n",
    "X = train_data[['cylinders', 'displacement', 'horsepower', 'weight', 'acceleration']]\n",
    "y = train_data['mpg']\n",
    "linear_model = LinearRegression()\n",
    "linear_model.fit(X, y)\n",
    "print(\"Coefficients:\", linear_model.coef_)"
   ]
  },
  {
   "cell_type": "markdown",
   "metadata": {},
   "source": [
    "#### 3. On the test dataset (remaining 25% not used in the training) use the trained model from part 2 to predict the values of test data (X_test ) and create a new column in the test dataset title \"Predicted MPG Values\" \n"
   ]
  },
  {
   "cell_type": "code",
   "execution_count": 4,
   "metadata": {},
   "outputs": [],
   "source": [
    "X_test = test_data[['cylinders', 'displacement', 'horsepower', 'weight', 'acceleration']]\n",
    "y_pred = linear_model.predict(X_test)\n",
    "test_data['Predicted MPG Values'] = y_pred"
   ]
  },
  {
   "cell_type": "markdown",
   "metadata": {},
   "source": [
    "#### 4. Using the test data plot the actual mpg values and the predicted mpg values together. Comment on any insights you see from this visual.\n"
   ]
  },
  {
   "cell_type": "code",
   "execution_count": 5,
   "metadata": {},
   "outputs": [
    {
     "data": {
      "image/png": "[encoded data removed]",
      "text/plain": [
       "<Figure size 432x288 with 1 Axes>"
      ]
     },
     "metadata": {
      "needs_background": "light"
     },
     "output_type": "display_data"
    }
   ],
   "source": [
    "import matplotlib.pyplot as plt\n",
    "plt.scatter(test_data['mpg'], test_data['Predicted MPG Values'])\n",
    "plt.xlabel('Actual MPG Values')\n",
    "plt.ylabel('Predicted MPG Values')\n",
    "plt.title('Actual vs. Predicted MPG Values')\n",
    "plt.show()"
   ]
  },
  {
   "cell_type": "markdown",
   "metadata": {},
   "source": [
    "#### 5.  Evaluate the performance of your model using the test dataset and comment on its accuracy metric RMSE. What does the value of this RMSE tells us here ?"
   ]
  },
  {
   "cell_type": "code",
   "execution_count": 6,
   "metadata": {
    "scrolled": true
   },
   "outputs": [],
   "source": [
    "y_test = test_data['mpg']\n"
   ]
  },
  {
   "cell_type": "code",
   "execution_count": 7,
   "metadata": {},
   "outputs": [],
   "source": [
    "import numpy as np\n",
    "from sklearn.metrics import mean_squared_error, r2_score\n",
    "from sklearn.tree import DecisionTreeClassifier"
   ]
  },
  {
   "cell_type": "code",
   "execution_count": 8,
   "metadata": {},
   "outputs": [
    {
     "name": "stdout",
     "output_type": "stream",
     "text": [
      "Root Mean Squared Error: 3.9457320318685705\n"
     ]
    }
   ],
   "source": [
    "rmse = np.sqrt(mean_squared_error(y_test, y_pred))\n",
    "print(\"Root Mean Squared Error:\", rmse)"
   ]
  },
  {
   "cell_type": "markdown",
   "metadata": {},
   "source": [
    "-------------------------------\n",
    "## Classification\n",
    "-----------------------------"
   ]
  },
  {
   "cell_type": "markdown",
   "metadata": {},
   "source": [
    "#### 6. Use the training set from part 1 to create a classification model using decision tree classifier to predict whether the mpg of a car is going to be more than 25 or not given the values of the predictor variables. You will use mpg column as the target variable and all the other numerical variables as predictors for this part. \n",
    "\n",
    "Hint : your model **should not predict the mpg of the car but simply 1 (True) or 0 (False) meaning whether the mpg of the given car would be more than 25 or not respectively**. This is a classification problem and not a regression one hence please modify the target variable accordingly before moving forward."
   ]
  },
  {
   "cell_type": "code",
   "execution_count": 9,
   "metadata": {},
   "outputs": [],
   "source": [
    "df['mpg_25'] = (df['mpg'] > 25).astype(int)"
   ]
  },
  {
   "cell_type": "code",
   "execution_count": 10,
   "metadata": {},
   "outputs": [],
   "source": [
    "train_data, test_data = train_test_split(df, test_size=0.25, random_state=42)\n",
    "X_train = train_data[['cylinders', 'displacement', 'horsepower', 'weight', 'acceleration']]\n",
    "y_train = train_data['mpg_25']"
   ]
  },
  {
   "cell_type": "code",
   "execution_count": 11,
   "metadata": {},
   "outputs": [
    {
     "data": {
      "text/plain": [
       "DecisionTreeClassifier(random_state=42)"
      ]
     },
     "execution_count": 11,
     "metadata": {},
     "output_type": "execute_result"
    }
   ],
   "source": [
    "dt_model = DecisionTreeClassifier(random_state=42)\n",
    "dt_model.fit(X_train, y_train)"
   ]
  },
  {
   "cell_type": "markdown",
   "metadata": {},
   "source": [
    "#### 7. Using your classfication model from the previous part  predict whether a car with the following charactaeristics will have higher than 25 mpg or not\n",
    "\n",
    "- weight = 2700\n",
    "- cylinders = 4\n",
    "- displacement = 455\n",
    "- horsepower = 225\n",
    "- acceleration = 15.5\n",
    "\n"
   ]
  },
  {
   "cell_type": "code",
   "execution_count": 12,
   "metadata": {},
   "outputs": [],
   "source": [
    "new_data = np.array([[4, 455, 225, 2700, 15.5]])"
   ]
  },
  {
   "cell_type": "code",
   "execution_count": 13,
   "metadata": {},
   "outputs": [
    {
     "name": "stderr",
     "output_type": "stream",
     "text": [
      "C:\\Users\\saiup\\anaconda3\\lib\\site-packages\\sklearn\\base.py:450: UserWarning: X does not have valid feature names, but DecisionTreeClassifier was fitted with feature names\n",
      "  warnings.warn(\n"
     ]
    }
   ],
   "source": [
    "prediction = dt_model.predict(new_data)"
   ]
  },
  {
   "cell_type": "code",
   "execution_count": 14,
   "metadata": {},
   "outputs": [
    {
     "name": "stdout",
     "output_type": "stream",
     "text": [
      "More than 25 mpg\n"
     ]
    }
   ],
   "source": [
    "if prediction == 0:\n",
    "    print(\"Less than or equal to 25 mpg\")\n",
    "else:\n",
    "    print(\"More than 25 mpg\")"
   ]
  },
  {
   "cell_type": "code",
   "execution_count": null,
   "metadata": {},
   "outputs": [],
   "source": []
  }
 ],
 "metadata": {
  "kernelspec": {
   "display_name": "Python 3 (ipykernel)",
   "language": "python",
   "name": "python3"
  },
  "language_info": {
   "codemirror_mode": {
    "name": "ipython",
    "version": 3
   },
   "file_extension": ".py",
   "mimetype": "text/x-python",
   "name": "python",
   "nbconvert_exporter": "python",
   "pygments_lexer": "ipython3",
   "version": "3.9.12"
  }
 },
 "nbformat": 4,
 "nbformat_minor": 4
}
