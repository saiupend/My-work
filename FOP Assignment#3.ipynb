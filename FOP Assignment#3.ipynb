{
 "cells": [
  {
   "cell_type": "code",
   "execution_count": 1,
   "id": "aeecb775",
   "metadata": {},
   "outputs": [],
   "source": [
    "import pandas as pd\n",
    "import numpy as np"
   ]
  },
  {
   "cell_type": "code",
   "execution_count": 6,
   "id": "77b4b524",
   "metadata": {},
   "outputs": [],
   "source": [
    "mydata = pd.read_excel(\"C:/Users/saiup/OneDrive/Documents/Raw file for Test for A3.xlsx\",header=0, nrows=10000)"
   ]
  },
  {
   "cell_type": "code",
   "execution_count": 7,
   "id": "c263dc89",
   "metadata": {},
   "outputs": [],
   "source": [
    "mydata = pd.DataFrame(mydata)\n",
    "number = 5"
   ]
  },
  {
   "cell_type": "code",
   "execution_count": 8,
   "id": "19416db9",
   "metadata": {},
   "outputs": [],
   "source": [
    "mydata.drop(index=mydata.index[:number],axis=0,inplace=True)"
   ]
  },
  {
   "cell_type": "code",
   "execution_count": 9,
   "id": "c320cc07",
   "metadata": {},
   "outputs": [],
   "source": [
    "Head= mydata.iloc[0]"
   ]
  },
  {
   "cell_type": "code",
   "execution_count": 10,
   "id": "11a360de",
   "metadata": {},
   "outputs": [],
   "source": [
    "mydata = pd.DataFrame(mydata.values[1:], columns=Head)"
   ]
  },
  {
   "cell_type": "code",
   "execution_count": 12,
   "id": "3824fa8a",
   "metadata": {},
   "outputs": [],
   "source": [
    "mydata = mydata.drop(mydata.columns[[4]], axis=1)\n",
    "number= 1"
   ]
  },
  {
   "cell_type": "code",
   "execution_count": 13,
   "id": "56ac8756",
   "metadata": {},
   "outputs": [],
   "source": [
    "mydata.drop(index=mydata.index[:number],axis=0,inplace=True)"
   ]
  },
  {
   "cell_type": "code",
   "execution_count": 14,
   "id": "31acecef",
   "metadata": {},
   "outputs": [],
   "source": [
    "mydata.columns = mydata.columns.str.replace(' ', '')"
   ]
  },
  {
   "cell_type": "code",
   "execution_count": 17,
   "id": "3e5695f0",
   "metadata": {},
   "outputs": [],
   "source": [
    "mydata.rename(columns={'ProgramCode':'_Program_Code_','ProgramName':'_Program_Name_','NumberofStudents':'_Number_of_Students_','DepositAmount':'_Deposit_Amount_'}, inplace=True)"
   ]
  },
  {
   "cell_type": "code",
   "execution_count": 18,
   "id": "cb2b37b6",
   "metadata": {},
   "outputs": [
    {
     "data": {
      "text/html": [
       "<div>\n",
       "<style scoped>\n",
       "    .dataframe tbody tr th:only-of-type {\n",
       "        vertical-align: middle;\n",
       "    }\n",
       "\n",
       "    .dataframe tbody tr th {\n",
       "        vertical-align: top;\n",
       "    }\n",
       "\n",
       "    .dataframe thead th {\n",
       "        text-align: right;\n",
       "    }\n",
       "</style>\n",
       "<table border=\"1\" class=\"dataframe\">\n",
       "  <thead>\n",
       "    <tr style=\"text-align: right;\">\n",
       "      <th>5</th>\n",
       "      <th>_Program_Code_</th>\n",
       "      <th>_Program_Name_</th>\n",
       "      <th>Level</th>\n",
       "      <th>_Number_of_Students_</th>\n",
       "      <th>_Deposit_Amount_</th>\n",
       "    </tr>\n",
       "  </thead>\n",
       "  <tbody>\n",
       "    <tr>\n",
       "      <th>29</th>\n",
       "      <td>NaN</td>\n",
       "      <td>TOTAL HIGH DEMAND</td>\n",
       "      <td>NaN</td>\n",
       "      <td>1150</td>\n",
       "      <td>NaN</td>\n",
       "    </tr>\n",
       "  </tbody>\n",
       "</table>\n",
       "</div>"
      ],
      "text/plain": [
       "5  _Program_Code_     _Program_Name_ Level _Number_of_Students_  \\\n",
       "29            NaN  TOTAL HIGH DEMAND   NaN                 1150   \n",
       "\n",
       "5  _Deposit_Amount_  \n",
       "29              NaN  "
      ]
     },
     "execution_count": 18,
     "metadata": {},
     "output_type": "execute_result"
    }
   ],
   "source": [
    "mydata[mydata['_Program_Name_'] ==\"TOTAL HIGH DEMAND\"]"
   ]
  },
  {
   "cell_type": "code",
   "execution_count": 20,
   "id": "901a709e",
   "metadata": {},
   "outputs": [
    {
     "data": {
      "text/html": [
       "<div>\n",
       "<style scoped>\n",
       "    .dataframe tbody tr th:only-of-type {\n",
       "        vertical-align: middle;\n",
       "    }\n",
       "\n",
       "    .dataframe tbody tr th {\n",
       "        vertical-align: top;\n",
       "    }\n",
       "\n",
       "    .dataframe thead th {\n",
       "        text-align: right;\n",
       "    }\n",
       "</style>\n",
       "<table border=\"1\" class=\"dataframe\">\n",
       "  <thead>\n",
       "    <tr style=\"text-align: right;\">\n",
       "      <th>5</th>\n",
       "      <th>_Program_Code_</th>\n",
       "      <th>_Program_Name_</th>\n",
       "      <th>Level</th>\n",
       "      <th>_Number_of_Students_</th>\n",
       "      <th>_Deposit_Amount_</th>\n",
       "    </tr>\n",
       "  </thead>\n",
       "  <tbody>\n",
       "    <tr>\n",
       "      <th>36</th>\n",
       "      <td>NaN</td>\n",
       "      <td>TOTAL APPLIED DEGREE</td>\n",
       "      <td>NaN</td>\n",
       "      <td>225</td>\n",
       "      <td>NaN</td>\n",
       "    </tr>\n",
       "  </tbody>\n",
       "</table>\n",
       "</div>"
      ],
      "text/plain": [
       "5  _Program_Code_        _Program_Name_ Level _Number_of_Students_  \\\n",
       "36            NaN  TOTAL APPLIED DEGREE   NaN                  225   \n",
       "\n",
       "5  _Deposit_Amount_  \n",
       "36              NaN  "
      ]
     },
     "execution_count": 20,
     "metadata": {},
     "output_type": "execute_result"
    }
   ],
   "source": [
    "mydata.drop(mydata[mydata['_Program_Name_'] ==\"TOTAL HIGH DEMAND\"].index, inplace = True)\n",
    "mydata[mydata['_Program_Name_'] ==\"TOTAL APPLIED DEGREE\"]"
   ]
  },
  {
   "cell_type": "code",
   "execution_count": 21,
   "id": "3e79872a",
   "metadata": {},
   "outputs": [],
   "source": [
    "mydata.drop(mydata[mydata['_Program_Name_'] ==\"TOTAL APPLIED DEGREE\"].index, inplace = True)"
   ]
  },
  {
   "cell_type": "code",
   "execution_count": 22,
   "id": "bb2d46b7",
   "metadata": {},
   "outputs": [
    {
     "data": {
      "text/html": [
       "<div>\n",
       "<style scoped>\n",
       "    .dataframe tbody tr th:only-of-type {\n",
       "        vertical-align: middle;\n",
       "    }\n",
       "\n",
       "    .dataframe tbody tr th {\n",
       "        vertical-align: top;\n",
       "    }\n",
       "\n",
       "    .dataframe thead th {\n",
       "        text-align: right;\n",
       "    }\n",
       "</style>\n",
       "<table border=\"1\" class=\"dataframe\">\n",
       "  <thead>\n",
       "    <tr style=\"text-align: right;\">\n",
       "      <th>5</th>\n",
       "      <th>_Program_Code_</th>\n",
       "      <th>_Program_Name_</th>\n",
       "      <th>Level</th>\n",
       "      <th>_Number_of_Students_</th>\n",
       "      <th>_Deposit_Amount_</th>\n",
       "    </tr>\n",
       "  </thead>\n",
       "  <tbody>\n",
       "    <tr>\n",
       "      <th>43</th>\n",
       "      <td>NaN</td>\n",
       "      <td>TOTAL COLLABORATIVE NURSING</td>\n",
       "      <td>NaN</td>\n",
       "      <td>198</td>\n",
       "      <td>NaN</td>\n",
       "    </tr>\n",
       "  </tbody>\n",
       "</table>\n",
       "</div>"
      ],
      "text/plain": [
       "5  _Program_Code_               _Program_Name_ Level _Number_of_Students_  \\\n",
       "43            NaN  TOTAL COLLABORATIVE NURSING   NaN                  198   \n",
       "\n",
       "5  _Deposit_Amount_  \n",
       "43              NaN  "
      ]
     },
     "execution_count": 22,
     "metadata": {},
     "output_type": "execute_result"
    }
   ],
   "source": [
    "mydata[mydata['_Program_Name_'] ==\"TOTAL COLLABORATIVE NURSING\"]"
   ]
  },
  {
   "cell_type": "code",
   "execution_count": 23,
   "id": "c7db2554",
   "metadata": {},
   "outputs": [],
   "source": [
    "mydata.drop(mydata[mydata['_Program_Name_'] ==\"TOTAL COLLABORATIVE NURSING\"].index, inplace = True)"
   ]
  },
  {
   "cell_type": "code",
   "execution_count": 24,
   "id": "65c06273",
   "metadata": {},
   "outputs": [
    {
     "data": {
      "text/html": [
       "<div>\n",
       "<style scoped>\n",
       "    .dataframe tbody tr th:only-of-type {\n",
       "        vertical-align: middle;\n",
       "    }\n",
       "\n",
       "    .dataframe tbody tr th {\n",
       "        vertical-align: top;\n",
       "    }\n",
       "\n",
       "    .dataframe thead th {\n",
       "        text-align: right;\n",
       "    }\n",
       "</style>\n",
       "<table border=\"1\" class=\"dataframe\">\n",
       "  <thead>\n",
       "    <tr style=\"text-align: right;\">\n",
       "      <th>5</th>\n",
       "      <th>_Program_Code_</th>\n",
       "      <th>_Program_Name_</th>\n",
       "      <th>Level</th>\n",
       "      <th>_Number_of_Students_</th>\n",
       "      <th>_Deposit_Amount_</th>\n",
       "    </tr>\n",
       "  </thead>\n",
       "  <tbody>\n",
       "    <tr>\n",
       "      <th>71</th>\n",
       "      <td>NaN</td>\n",
       "      <td>TOTAL POST BASIC</td>\n",
       "      <td>NaN</td>\n",
       "      <td>510</td>\n",
       "      <td>NaN</td>\n",
       "    </tr>\n",
       "  </tbody>\n",
       "</table>\n",
       "</div>"
      ],
      "text/plain": [
       "5  _Program_Code_    _Program_Name_ Level _Number_of_Students_  \\\n",
       "71            NaN  TOTAL POST BASIC   NaN                  510   \n",
       "\n",
       "5  _Deposit_Amount_  \n",
       "71              NaN  "
      ]
     },
     "execution_count": 24,
     "metadata": {},
     "output_type": "execute_result"
    }
   ],
   "source": [
    "mydata[mydata['_Program_Name_'] ==\"TOTAL POST BASIC\"]"
   ]
  },
  {
   "cell_type": "code",
   "execution_count": 26,
   "id": "1c500e92",
   "metadata": {},
   "outputs": [],
   "source": [
    "mydata.drop(mydata[mydata['_Program_Name_'] ==\"TOTAL POST BASIC\"].index, inplace = True)\n",
    "mydata.dropna(inplace = True, how='all')"
   ]
  },
  {
   "cell_type": "code",
   "execution_count": 27,
   "id": "1d87069c",
   "metadata": {},
   "outputs": [
    {
     "name": "stdout",
     "output_type": "stream",
     "text": [
      "5   _Program_Code_                                     _Program_Name_ Level  \\\n",
      "1            K3135                         Medical Laboratory Science    S1   \n",
      "2            K3135                         Medical Laboratory Science    S3   \n",
      "3            K3135                         Medical Laboratory Science    S5   \n",
      "4            K3135                         Medical Laboratory Science    S6   \n",
      "6            K3263           Advertising and Marketing Communications    S1   \n",
      "..             ...                                                ...   ...   \n",
      "217          K1395  Pre-Health Sciences Pathway to Advanced Diplom...    S1   \n",
      "219          F1202                            Masters in Data Science    S1   \n",
      "220          F1202                            Masters in Data Science    S2   \n",
      "221          F1202                            Masters in Data Science    S3   \n",
      "222          F1202                            Masters in Data Science    S4   \n",
      "\n",
      "5    _Number_of_Students_  _Deposit_Amount_  \n",
      "1                      53             500.0  \n",
      "2                      38             500.0  \n",
      "3                      13             500.0  \n",
      "4                       9             500.0  \n",
      "6                      88             500.0  \n",
      "..                    ...               ...  \n",
      "217                    51             500.0  \n",
      "219                    97             500.0  \n",
      "220                   102             500.0  \n",
      "221                    45             500.0  \n",
      "222                    33             500.0  \n",
      "\n",
      "[145 rows x 5 columns]\n"
     ]
    }
   ],
   "source": [
    "mydata = mydata.replace(r'^\\s*$', np.nan, regex=True)\n",
    "mydata=mydata.fillna(method='ffill')\n",
    "print(mydata)"
   ]
  },
  {
   "cell_type": "code",
   "execution_count": 28,
   "id": "b2b0e5e5",
   "metadata": {},
   "outputs": [
    {
     "name": "stdout",
     "output_type": "stream",
     "text": [
      "    _Program_Code_                            _Program_Name_  Level  \\\n",
      "0            K3135                Medical Laboratory Science     S1   \n",
      "1            K3135                Medical Laboratory Science     S3   \n",
      "2            K3135                Medical Laboratory Science     S5   \n",
      "3            K3135                Medical Laboratory Science     S6   \n",
      "4            K3263  Advertising and Marketing Communications     S1   \n",
      "..             ...                                       ...    ...   \n",
      "154          K3879                                   Tourism  INTLM   \n",
      "155          K3986   Office Administration - Health Services  INTLM   \n",
      "156          K1332     Energy Systems Engineering Technician  INTLM   \n",
      "157          K1356                   Wind Turbine Technician  INTLM   \n",
      "158          K1353                     Business - Accounting  INTLM   \n",
      "\n",
      "     _Number_of_Students_  _Deposit_Amount_ School  \n",
      "0                      53             500.0    NaN  \n",
      "1                      38             500.0    NaN  \n",
      "2                      13             500.0    NaN  \n",
      "3                       9             500.0    NaN  \n",
      "4                      88             500.0    NaN  \n",
      "..                    ...               ...    ...  \n",
      "154                    85             500.0    STT  \n",
      "155                    55             500.0    BUS  \n",
      "156                     5             500.0    ASC  \n",
      "157                     5             500.0    ASC  \n",
      "158                    66             500.0    STT  \n",
      "\n",
      "[159 rows x 6 columns]\n"
     ]
    },
    {
     "name": "stderr",
     "output_type": "stream",
     "text": [
      "C:\\Users\\saiup\\AppData\\Local\\Temp\\ipykernel_4972\\2339536016.py:16: FutureWarning: The frame.append method is deprecated and will be removed from pandas in a future version. Use pandas.concat instead.\n",
      "  mydata = mydata.append(extradata, ignore_index=True)\n"
     ]
    }
   ],
   "source": [
    "extradata = [{'_Program_Code_':'K3259', '_Program_Name_':'Business - Accounting', 'Level':'INTLM'\n",
    ",'_Number_of_Students_':18,'School':'BUS','_Deposit_Amount_':500}, {'_Program_Code_':'K3261', '_Program_Name_':'Business - Marketing', 'Level':'INTLM'\n",
    ",'_Number_of_Students_':15,'School':'BUS','_Deposit_Amount_':500},{'_Program_Code_':'K3265', '_Program_Name_':'Business - Human Resources', 'Level':'INTLM'\n",
    ",'_Number_of_Students_':13,'School':'BUS','_Deposit_Amount_':500},{'_Program_Code_':'K3295', '_Program_Name_':'Business', 'Level':'INTLM'\n",
    ",'_Number_of_Students_':35,'School':'BUS','_Deposit_Amount_':500},{'_Program_Code_':'K3557', '_Program_Name_':'Computer Networking and Technical Support', 'Level':'INTLM'\n",
    ",'_Number_of_Students_':89,'School':'ASC','_Deposit_Amount_':500},{'_Program_Code_':'K3558', '_Program_Name_':'Computer Programmer Analyst', 'Level':'INTLM'\n",
    ",'_Number_of_Students_':58,'School':'STT','_Deposit_Amount_':500},{'_Program_Code_':'K3537', '_Program_Name_':'Mechanical Technician', 'Level':'INTLM'\n",
    ",'_Number_of_Students_':83,'School':'STT','_Deposit_Amount_':500},{'_Program_Code_':'K3731', '_Program_Name_':'Instrumentation and Control Engineering Technician', 'Level':'INTLM'\n",
    ",'_Number_of_Students_':5,'School':'ASC','_Deposit_Amount_':500},{'_Program_Code_':'K3825', '_Program_Name_':'Office Administration - Double Option', 'Level':'INTLM'\n",
    ",'_Number_of_Students_':9,'School':'BUS','_Deposit_Amount_':500},{'_Program_Code_':'K3879', '_Program_Name_':'Tourism', 'Level':'INTLM'\n",
    ",'_Number_of_Students_':85,'School':'STT','_Deposit_Amount_':500},{'_Program_Code_':'K3986', '_Program_Name_':'Office Administration - Health Services', 'Level':'INTLM'\n",
    ",'_Number_of_Students_':55,'School':'BUS','_Deposit_Amount_':500},{'_Program_Code_':'K1332', '_Program_Name_':'Energy Systems Engineering Technician', 'Level':'INTLM'\n",
    ",'_Number_of_Students_':5,'School':'ASC','_Deposit_Amount_':500},{'_Program_Code_':'K1356', '_Program_Name_':'Wind Turbine Technician', 'Level':'INTLM'\n",
    ",'_Number_of_Students_':5,'School':'ASC','_Deposit_Amount_':500},{'_Program_Code_':'K1353', '_Program_Name_':'Business - Accounting', 'Level':'INTLM'\n",
    ",'_Number_of_Students_':66,'School':'STT','_Deposit_Amount_':500}]\n",
    "mydata = mydata.append(extradata, ignore_index=True)\n",
    "print(mydata)"
   ]
  },
  {
   "cell_type": "code",
   "execution_count": 29,
   "id": "6fd61ef8",
   "metadata": {},
   "outputs": [
    {
     "data": {
      "text/plain": [
       "6507"
      ]
     },
     "execution_count": 29,
     "metadata": {},
     "output_type": "execute_result"
    }
   ],
   "source": [
    "sum(mydata._Number_of_Students_)"
   ]
  },
  {
   "cell_type": "code",
   "execution_count": 30,
   "id": "c1c5eed1",
   "metadata": {},
   "outputs": [
    {
     "data": {
      "text/plain": [
       "Level\n",
       "INTLM     541\n",
       "S1       2854\n",
       "S2        159\n",
       "S3       1858\n",
       "S4         33\n",
       "S5        944\n",
       "S6         10\n",
       "S7         55\n",
       "S8         53\n",
       "Name: _Number_of_Students_, dtype: int64"
      ]
     },
     "execution_count": 30,
     "metadata": {},
     "output_type": "execute_result"
    }
   ],
   "source": [
    "mydata.groupby(['Level'])['_Number_of_Students_'].sum()"
   ]
  },
  {
   "cell_type": "code",
   "execution_count": 31,
   "id": "d1d2d3a4",
   "metadata": {},
   "outputs": [
    {
     "data": {
      "text/plain": [
       "<AxesSubplot:xlabel='School'>"
      ]
     },
     "execution_count": 31,
     "metadata": {},
     "output_type": "execute_result"
    },
    {
     "data": {
      "image/png": "[encoded data removed]",
      "text/plain": [
       "<Figure size 432x288 with 1 Axes>"
      ]
     },
     "metadata": {
      "needs_background": "light"
     },
     "output_type": "display_data"
    }
   ],
   "source": [
    "mydata.groupby(['School'])['_Number_of_Students_'].mean().plot(kind=\"bar\")"
   ]
  },
  {
   "cell_type": "code",
   "execution_count": 32,
   "id": "cc6342e2",
   "metadata": {},
   "outputs": [
    {
     "name": "stdout",
     "output_type": "stream",
     "text": [
      "            total_bill       tip      size\n",
      "total_bill    1.000000  0.675734  0.598315\n",
      "tip           0.675734  1.000000  0.489299\n",
      "size          0.598315  0.489299  1.000000\n"
     ]
    },
    {
     "data": {
      "text/plain": [
       "<AxesSubplot:ylabel='School'>"
      ]
     },
     "execution_count": 32,
     "metadata": {},
     "output_type": "execute_result"
    },
    {
     "data": {
      "image/png": "[encoded data removed]",
      "text/plain": [
       "<Figure size 432x288 with 2 Axes>"
      ]
     },
     "metadata": {
      "needs_background": "light"
     },
     "output_type": "display_data"
    }
   ],
   "source": [
    "import seaborn as sns\n",
    "tips=sns.load_dataset('tips')\n",
    "cor=(tips[['total_bill','tip','size']].corr())\n",
    "print(cor)\n",
    "pivottable = mydata.pivot_table(index=['School'], values=['_Number_of_Students_'], aggfunc='mean')\n",
    "pivottable\n",
    "sns.heatmap(pivottable,annot=True)"
   ]
  },
  {
   "cell_type": "code",
   "execution_count": null,
   "id": "4936fa82",
   "metadata": {},
   "outputs": [],
   "source": []
  }
 ],
 "metadata": {
  "kernelspec": {
   "display_name": "Python 3 (ipykernel)",
   "language": "python",
   "name": "python3"
  },
  "language_info": {
   "codemirror_mode": {
    "name": "ipython",
    "version": 3
   },
   "file_extension": ".py",
   "mimetype": "text/x-python",
   "name": "python",
   "nbconvert_exporter": "python",
   "pygments_lexer": "ipython3",
   "version": "3.9.12"
  }
 },
 "nbformat": 4,
 "nbformat_minor": 5
}
