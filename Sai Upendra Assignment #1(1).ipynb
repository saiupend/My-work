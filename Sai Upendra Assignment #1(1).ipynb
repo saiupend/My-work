{
 "cells": [
  {
   "cell_type": "code",
   "execution_count": 1,
   "id": "729fa5e6",
   "metadata": {},
   "outputs": [
    {
     "data": {
      "text/plain": [
       "4"
      ]
     },
     "execution_count": 1,
     "metadata": {},
     "output_type": "execute_result"
    }
   ],
   "source": [
    "2+2"
   ]
  },
  {
   "cell_type": "code",
   "execution_count": 1,
   "id": "67666143",
   "metadata": {},
   "outputs": [],
   "source": [
    "list=['abcd',317,2.23,'Sai',70.2]"
   ]
  },
  {
   "cell_type": "code",
   "execution_count": 2,
   "id": "4f7ba19e",
   "metadata": {},
   "outputs": [
    {
     "data": {
      "text/plain": [
       "5"
      ]
     },
     "execution_count": 2,
     "metadata": {},
     "output_type": "execute_result"
    }
   ],
   "source": [
    "len(list)"
   ]
  },
  {
   "cell_type": "code",
   "execution_count": 3,
   "id": "9e0fdfeb",
   "metadata": {},
   "outputs": [],
   "source": [
    "office_supplies=(\"printer\", \"cartridge\", \"Notepad\", \"Pen\", \"markers\", \"sanitizer\", \"coffee\", \"face masks\")"
   ]
  },
  {
   "cell_type": "code",
   "execution_count": 9,
   "id": "9aade1e8",
   "metadata": {},
   "outputs": [
    {
     "name": "stdout",
     "output_type": "stream",
     "text": [
      "('printer', 'cartridge', 'Notepad', 'Pen')\n"
     ]
    }
   ],
   "source": [
    "print(office_supplies[0:4])"
   ]
  },
  {
   "cell_type": "code",
   "execution_count": 21,
   "id": "287b2e76",
   "metadata": {},
   "outputs": [
    {
     "data": {
      "text/plain": [
       "'face masks'"
      ]
     },
     "execution_count": 21,
     "metadata": {},
     "output_type": "execute_result"
    }
   ],
   "source": [
    "office_supplies[-1]"
   ]
  },
  {
   "cell_type": "code",
   "execution_count": 23,
   "id": "db4847f6",
   "metadata": {},
   "outputs": [
    {
     "data": {
      "text/plain": [
       "('sanitizer', 'coffee', 'face masks')"
      ]
     },
     "execution_count": 23,
     "metadata": {},
     "output_type": "execute_result"
    }
   ],
   "source": [
    "office_supplies[-3:]"
   ]
  },
  {
   "cell_type": "code",
   "execution_count": 34,
   "id": "389ec6c5",
   "metadata": {},
   "outputs": [],
   "source": [
    "list=[]"
   ]
  },
  {
   "cell_type": "code",
   "execution_count": 35,
   "id": "21351910",
   "metadata": {},
   "outputs": [
    {
     "data": {
      "text/plain": [
       "0"
      ]
     },
     "execution_count": 35,
     "metadata": {},
     "output_type": "execute_result"
    }
   ],
   "source": [
    "len(list)"
   ]
  },
  {
   "cell_type": "code",
   "execution_count": 54,
   "id": "ade5549f",
   "metadata": {},
   "outputs": [],
   "source": [
    "Fruits=[]"
   ]
  },
  {
   "cell_type": "code",
   "execution_count": 55,
   "id": "274a581e",
   "metadata": {},
   "outputs": [
    {
     "data": {
      "text/plain": [
       "['orange']"
      ]
     },
     "execution_count": 55,
     "metadata": {},
     "output_type": "execute_result"
    }
   ],
   "source": [
    "Fruits.append(\"orange\")\n",
    "Fruits"
   ]
  },
  {
   "cell_type": "code",
   "execution_count": 56,
   "id": "5a6e89c3",
   "metadata": {},
   "outputs": [
    {
     "data": {
      "text/plain": [
       "['orange', 'mango']"
      ]
     },
     "execution_count": 56,
     "metadata": {},
     "output_type": "execute_result"
    }
   ],
   "source": [
    "Fruits.append(\"mango\")\n",
    "Fruits"
   ]
  },
  {
   "cell_type": "code",
   "execution_count": 57,
   "id": "dbbe1e10",
   "metadata": {},
   "outputs": [
    {
     "data": {
      "text/plain": [
       "['orange', 'mango', 'apple']"
      ]
     },
     "execution_count": 57,
     "metadata": {},
     "output_type": "execute_result"
    }
   ],
   "source": [
    "Fruits.append(\"apple\")\n",
    "Fruits"
   ]
  },
  {
   "cell_type": "code",
   "execution_count": 58,
   "id": "fa05901e",
   "metadata": {},
   "outputs": [
    {
     "data": {
      "text/plain": [
       "['orange', 'mango', 'apple', 'kiwi']"
      ]
     },
     "execution_count": 58,
     "metadata": {},
     "output_type": "execute_result"
    }
   ],
   "source": [
    "Fruits.append(\"kiwi\")\n",
    "Fruits"
   ]
  },
  {
   "cell_type": "code",
   "execution_count": 59,
   "id": "516a556f",
   "metadata": {},
   "outputs": [
    {
     "data": {
      "text/plain": [
       "['orange', 'mango', 'apple', 'kiwi', 'pineapple']"
      ]
     },
     "execution_count": 59,
     "metadata": {},
     "output_type": "execute_result"
    }
   ],
   "source": [
    "Fruits.append(\"pineapple\")\n",
    "Fruits"
   ]
  },
  {
   "cell_type": "code",
   "execution_count": 60,
   "id": "31bc7d18",
   "metadata": {},
   "outputs": [],
   "source": [
    "Fruits.sort()"
   ]
  },
  {
   "cell_type": "code",
   "execution_count": 63,
   "id": "3b2570fe",
   "metadata": {},
   "outputs": [
    {
     "name": "stdout",
     "output_type": "stream",
     "text": [
      "['apple', 'kiwi', 'mango', 'orange', 'pineapple']\n"
     ]
    }
   ],
   "source": [
    "print(Fruits)"
   ]
  },
  {
   "cell_type": "code",
   "execution_count": 64,
   "id": "8aa28d5e",
   "metadata": {},
   "outputs": [
    {
     "data": {
      "text/plain": [
       "['apple', 'kiwi', 'mango', 'orange', 'pineapple']"
      ]
     },
     "execution_count": 64,
     "metadata": {},
     "output_type": "execute_result"
    }
   ],
   "source": [
    "fruits=Fruits\n",
    "fruits"
   ]
  },
  {
   "cell_type": "code",
   "execution_count": 65,
   "id": "841691b7",
   "metadata": {},
   "outputs": [
    {
     "data": {
      "text/plain": [
       "['cat', 'horse', 'dog', 'elephant']"
      ]
     },
     "execution_count": 65,
     "metadata": {},
     "output_type": "execute_result"
    }
   ],
   "source": [
    "animals=[\"cat\", \"horse\", \"dog\", \"elephant\"]\n",
    "animals"
   ]
  },
  {
   "cell_type": "code",
   "execution_count": 67,
   "id": "954036c5",
   "metadata": {},
   "outputs": [
    {
     "name": "stdout",
     "output_type": "stream",
     "text": [
      "cat\n",
      "horse\n",
      "dog\n",
      "elephant\n"
     ]
    }
   ],
   "source": [
    "for i in animals:\n",
    "    print(i)"
   ]
  },
  {
   "cell_type": "code",
   "execution_count": 69,
   "id": "139e0034",
   "metadata": {},
   "outputs": [
    {
     "name": "stdout",
     "output_type": "stream",
     "text": [
      "cats\n",
      "horses\n",
      "dogs\n",
      "elephants\n"
     ]
    }
   ],
   "source": [
    "for i in animals:\n",
    "    print(i+\"s\")"
   ]
  },
  {
   "cell_type": "code",
   "execution_count": 70,
   "id": "44fd7322",
   "metadata": {},
   "outputs": [],
   "source": [
    "Grade={'mathematic':88, 'English':82, 'Chemistry':66, 'History':81}"
   ]
  },
  {
   "cell_type": "code",
   "execution_count": 72,
   "id": "2c263def",
   "metadata": {},
   "outputs": [
    {
     "data": {
      "text/plain": [
       "66"
      ]
     },
     "execution_count": 72,
     "metadata": {},
     "output_type": "execute_result"
    }
   ],
   "source": [
    "Grade[\"Chemistry\"]"
   ]
  },
  {
   "cell_type": "code",
   "execution_count": 76,
   "id": "fb0603d0",
   "metadata": {},
   "outputs": [],
   "source": [
    "Grade[\"Physics\"]=55"
   ]
  },
  {
   "cell_type": "code",
   "execution_count": 77,
   "id": "2e36d2d2",
   "metadata": {},
   "outputs": [
    {
     "data": {
      "text/plain": [
       "{'mathematic': 88,\n",
       " 'English': 82,\n",
       " 'Chemistry': 66,\n",
       " 'History': 81,\n",
       " 'Physics': 55}"
      ]
     },
     "execution_count": 77,
     "metadata": {},
     "output_type": "execute_result"
    }
   ],
   "source": [
    "Grade"
   ]
  },
  {
   "cell_type": "code",
   "execution_count": 80,
   "id": "e73d586d",
   "metadata": {},
   "outputs": [],
   "source": [
    "a=17"
   ]
  },
  {
   "cell_type": "code",
   "execution_count": 85,
   "id": "b0a003f1",
   "metadata": {
    "scrolled": true
   },
   "outputs": [
    {
     "name": "stdout",
     "output_type": "stream",
     "text": [
      "Sorry, you are not eligible \n"
     ]
    }
   ],
   "source": [
    "if int(a)>18 :\n",
    "    print(\"they can vote\")\n",
    "else :\n",
    "    \n",
    "    print(\"Sorry, you are not eligible \")"
   ]
  },
  {
   "cell_type": "code",
   "execution_count": 83,
   "id": "de00be8f",
   "metadata": {},
   "outputs": [],
   "source": [
    "a=\"17\""
   ]
  },
  {
   "cell_type": "code",
   "execution_count": 88,
   "id": "4afc0172",
   "metadata": {},
   "outputs": [
    {
     "name": "stdout",
     "output_type": "stream",
     "text": [
      "You have to wait for 1 years\n"
     ]
    }
   ],
   "source": [
    "if int(a)>18 :\n",
    "    print(\"they can vote\")\n",
    "else :\n",
    "    \n",
    "    print(\"You have to wait for\",(18-int(a)),\"years\")"
   ]
  },
  {
   "cell_type": "code",
   "execution_count": 89,
   "id": "82dc2740",
   "metadata": {},
   "outputs": [
    {
     "data": {
      "text/plain": [
       "['apple', 'kiwi', 'mango', 'orange', 'pineapple']"
      ]
     },
     "execution_count": 89,
     "metadata": {},
     "output_type": "execute_result"
    }
   ],
   "source": [
    "fruits"
   ]
  },
  {
   "cell_type": "code",
   "execution_count": 91,
   "id": "9d1da914",
   "metadata": {},
   "outputs": [],
   "source": [
    "fruits.append(\"mosambi\")"
   ]
  },
  {
   "cell_type": "code",
   "execution_count": 92,
   "id": "8164b86e",
   "metadata": {},
   "outputs": [
    {
     "data": {
      "text/plain": [
       "['apple', 'kiwi', 'mango', 'orange', 'pineapple', 'mosambi']"
      ]
     },
     "execution_count": 92,
     "metadata": {},
     "output_type": "execute_result"
    }
   ],
   "source": [
    "fruits"
   ]
  },
  {
   "cell_type": "code",
   "execution_count": 96,
   "id": "8aa9bba3",
   "metadata": {},
   "outputs": [
    {
     "name": "stdout",
     "output_type": "stream",
     "text": [
      "['apple', 'kiwi', 'mango', 'orange', 'pineapple']\n",
      "['apple', 'kiwi', 'mango', 'orange', 'pineapple']\n",
      "['apple', 'kiwi', 'mango', 'orange', 'pineapple']\n",
      "['apple', 'kiwi', 'mango', 'orange', 'pineapple']\n",
      "['apple', 'kiwi', 'mango', 'orange', 'pineapple']\n",
      "['apple', 'kiwi', 'mango', 'orange', 'pineapple']\n"
     ]
    }
   ],
   "source": [
    "for i in fruits:\n",
    "    print(fruits[0:5])"
   ]
  },
  {
   "cell_type": "code",
   "execution_count": null,
   "id": "8f5d610b",
   "metadata": {},
   "outputs": [],
   "source": []
  }
 ],
 "metadata": {
  "kernelspec": {
   "display_name": "Python 3 (ipykernel)",
   "language": "python",
   "name": "python3"
  },
  "language_info": {
   "codemirror_mode": {
    "name": "ipython",
    "version": 3
   },
   "file_extension": ".py",
   "mimetype": "text/x-python",
   "name": "python",
   "nbconvert_exporter": "python",
   "pygments_lexer": "ipython3",
   "version": "3.9.12"
  }
 },
 "nbformat": 4,
 "nbformat_minor": 5
}
